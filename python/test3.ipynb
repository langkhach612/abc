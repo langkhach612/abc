{
 "cells": [
  {
   "cell_type": "markdown",
   "metadata": {},
   "source": [
    "# logic py"
   ]
  },
  {
   "cell_type": "markdown",
   "metadata": {},
   "source": [
    "### bài 1"
   ]
  },
  {
   "cell_type": "code",
   "execution_count": 1,
   "metadata": {},
   "outputs": [
    {
     "data": {
      "text/latex": [
       "$\\displaystyle \\text{True}$"
      ],
      "text/plain": [
       "True"
      ]
     },
     "execution_count": 1,
     "metadata": {},
     "output_type": "execute_result"
    }
   ],
   "source": [
    "from sympy import*\n",
    "\n",
    "p,q,r = symbols('p q r')\n",
    "P = ~p >> q | ~r & True\n",
    "P.subs({p:1,q:0,r:1}) "
   ]
  },
  {
   "cell_type": "markdown",
   "metadata": {},
   "source": [
    "#### tổng kết:\n",
    "##### lý thuyết     sympy                       ttg\n",
    "#####   1,0        True,false                   True,False\n",
    "#####   P^q         p & q (And(p,q))            p and q\n",
    "#####   p\\/q        p | q (or(p,q))             p or  q\n",
    "#####   p_/q        Xor(p,q)                    p != q\n",
    "#####   p-> q        p>>q (implier(p,q))        p => q\n",
    "#####   p<->q        Equivalent(p,q)            p = q\n",
    "#####   not p        ~p(Not(p))                 ~p"
   ]
  },
  {
   "cell_type": "code",
   "execution_count": 2,
   "metadata": {},
   "outputs": [
    {
     "data": {
      "text/html": [
       "<div>\n",
       "<style scoped>\n",
       "    .dataframe tbody tr th:only-of-type {\n",
       "        vertical-align: middle;\n",
       "    }\n",
       "\n",
       "    .dataframe tbody tr th {\n",
       "        vertical-align: top;\n",
       "    }\n",
       "\n",
       "    .dataframe thead th {\n",
       "        text-align: right;\n",
       "    }\n",
       "</style>\n",
       "<table border=\"1\" class=\"dataframe\">\n",
       "  <thead>\n",
       "    <tr style=\"text-align: right;\">\n",
       "      <th></th>\n",
       "      <th>p</th>\n",
       "      <th>q</th>\n",
       "      <th>r</th>\n",
       "      <th>~p =&gt; q or ~r and True</th>\n",
       "    </tr>\n",
       "  </thead>\n",
       "  <tbody>\n",
       "    <tr>\n",
       "      <th>1</th>\n",
       "      <td>1</td>\n",
       "      <td>1</td>\n",
       "      <td>1</td>\n",
       "      <td>1</td>\n",
       "    </tr>\n",
       "    <tr>\n",
       "      <th>2</th>\n",
       "      <td>1</td>\n",
       "      <td>1</td>\n",
       "      <td>0</td>\n",
       "      <td>1</td>\n",
       "    </tr>\n",
       "    <tr>\n",
       "      <th>3</th>\n",
       "      <td>1</td>\n",
       "      <td>0</td>\n",
       "      <td>1</td>\n",
       "      <td>1</td>\n",
       "    </tr>\n",
       "    <tr>\n",
       "      <th>4</th>\n",
       "      <td>1</td>\n",
       "      <td>0</td>\n",
       "      <td>0</td>\n",
       "      <td>1</td>\n",
       "    </tr>\n",
       "    <tr>\n",
       "      <th>5</th>\n",
       "      <td>0</td>\n",
       "      <td>1</td>\n",
       "      <td>1</td>\n",
       "      <td>1</td>\n",
       "    </tr>\n",
       "    <tr>\n",
       "      <th>6</th>\n",
       "      <td>0</td>\n",
       "      <td>1</td>\n",
       "      <td>0</td>\n",
       "      <td>1</td>\n",
       "    </tr>\n",
       "    <tr>\n",
       "      <th>7</th>\n",
       "      <td>0</td>\n",
       "      <td>0</td>\n",
       "      <td>1</td>\n",
       "      <td>0</td>\n",
       "    </tr>\n",
       "    <tr>\n",
       "      <th>8</th>\n",
       "      <td>0</td>\n",
       "      <td>0</td>\n",
       "      <td>0</td>\n",
       "      <td>1</td>\n",
       "    </tr>\n",
       "  </tbody>\n",
       "</table>\n",
       "</div>"
      ],
      "text/plain": [
       "   p  q  r  ~p => q or ~r and True\n",
       "1  1  1  1                       1\n",
       "2  1  1  0                       1\n",
       "3  1  0  1                       1\n",
       "4  1  0  0                       1\n",
       "5  0  1  1                       1\n",
       "6  0  1  0                       1\n",
       "7  0  0  1                       0\n",
       "8  0  0  0                       1"
      ]
     },
     "execution_count": 2,
     "metadata": {},
     "output_type": "execute_result"
    }
   ],
   "source": [
    "import ttg\n",
    "ttg.Truths(\n",
    "['p','q','r'],\n",
    "['~p => q or ~r and True'], \n",
    " ).as_pandas\n"
   ]
  },
  {
   "cell_type": "code",
   "execution_count": 12,
   "metadata": {},
   "outputs": [],
   "source": [
    "#from sympy import*\n",
    "#Equivalent(p,q).simplify()"
   ]
  },
  {
   "cell_type": "code",
   "execution_count": 1,
   "metadata": {},
   "outputs": [],
   "source": [
    "# các quy tắc suy luận ứng với đồng nhất đúng tương ứng\n",
    "# ví dụ tại lớp\n",
    "from sympy import*"
   ]
  },
  {
   "cell_type": "code",
   "execution_count": 2,
   "metadata": {},
   "outputs": [],
   "source": [
    "p,q,r,s,t,u = symbols('p q r s t u')"
   ]
  },
  {
   "cell_type": "code",
   "execution_count": 3,
   "metadata": {},
   "outputs": [],
   "source": [
    "A=(p>>q) & (q>>r & s) & (~r|~t|u) & (p&t)"
   ]
  },
  {
   "cell_type": "code",
   "execution_count": 4,
   "metadata": {},
   "outputs": [
    {
     "data": {
      "text/latex": [
       "$\\displaystyle p \\wedge q \\wedge r \\wedge s \\wedge t \\wedge u$"
      ],
      "text/plain": [
       "p & q & r & s & t & u"
      ]
     },
     "execution_count": 4,
     "metadata": {},
     "output_type": "execute_result"
    }
   ],
   "source": [
    "simplify(A)"
   ]
  },
  {
   "cell_type": "code",
   "execution_count": 8,
   "metadata": {},
   "outputs": [
    {
     "data": {
      "text/plain": [
       "False"
      ]
     },
     "execution_count": 8,
     "metadata": {},
     "output_type": "execute_result"
    }
   ],
   "source": [
    "# lượng từ (bài 4)\n",
    "\n",
    "n = 12\n",
    "a = True\n",
    "for k in range(2,n):\n",
    "    a = a and (n % k != 0)\n",
    "a"
   ]
  },
  {
   "cell_type": "code",
   "execution_count": 9,
   "metadata": {},
   "outputs": [
    {
     "data": {
      "text/plain": [
       "False"
      ]
     },
     "execution_count": 9,
     "metadata": {},
     "output_type": "execute_result"
    }
   ],
   "source": [
    "# c2\n",
    "n = 12\n",
    "a = True\n",
    "for k in range(2,n):\n",
    "    if(n%k==0):\n",
    "        a=False\n",
    "        break \n",
    "a\n"
   ]
  },
  {
   "cell_type": "code",
   "execution_count": 7,
   "metadata": {},
   "outputs": [],
   "source": [
    "# phủ định của lượng từ\n",
    "###\n",
    "# buổi mới\n",
    "\n",
    "# khai báo mệnh đề\n",
    "def P(x,y):\n",
    "    return x <= y and (x+y) % 2 == 0"
   ]
  },
  {
   "cell_type": "code",
   "execution_count": 2,
   "metadata": {},
   "outputs": [
    {
     "data": {
      "text/plain": [
       "True"
      ]
     },
     "execution_count": 2,
     "metadata": {},
     "output_type": "execute_result"
    }
   ],
   "source": [
    "P(1,3)"
   ]
  },
  {
   "cell_type": "code",
   "execution_count": 8,
   "metadata": {},
   "outputs": [
    {
     "name": "stdout",
     "output_type": "stream",
     "text": [
      "0 1 0 0 \n",
      "1 0 1 1 \n",
      "0 0 0 0 \n"
     ]
    }
   ],
   "source": [
    "for x in [0, 1, 4]:\n",
    "    for y in [1, 2, 3, 5]:\n",
    "        print(int(P(x,y)),end=' ')\n",
    "    print()"
   ]
  },
  {
   "cell_type": "code",
   "execution_count": 9,
   "metadata": {},
   "outputs": [
    {
     "name": "stdout",
     "output_type": "stream",
     "text": [
      "True\n",
      "True\n",
      "False\n"
     ]
    }
   ],
   "source": [
    "for x in [0, 1, 4]: # TH3.b câu c\n",
    "    q = False # lưu lượng từ Q(x)\n",
    "    for y in [1, 2, 3, 5]:\n",
    "        q = q or P(x,y)\n",
    "        #print(int(P(x,y)),end=' ')\n",
    "    print(q)"
   ]
  },
  {
   "cell_type": "code",
   "execution_count": 12,
   "metadata": {},
   "outputs": [
    {
     "name": "stdout",
     "output_type": "stream",
     "text": [
      "False\n"
     ]
    }
   ],
   "source": [
    "a = True\n",
    "for x in [0, 1, 4]: # TH3.b câu c\n",
    "    e = False # lưu lượng từ Q(x)\n",
    "    for y in [1, 2, 3, 5]:\n",
    "        e = e or P(x,y)\n",
    "        #print(int(P(x,y)),end=' ')\n",
    "# print(q)\n",
    "a = a and e\n",
    "print(a)"
   ]
  },
  {
   "cell_type": "code",
   "execution_count": 13,
   "metadata": {},
   "outputs": [
    {
     "name": "stdout",
     "output_type": "stream",
     "text": [
      "False\n"
     ]
    }
   ],
   "source": [
    "# c2\n",
    "a = True\n",
    "for x in [0, 1, 4]: # TH3.b câu c\n",
    "    e = False # lưu lượng từ Q(x)\n",
    "    for y in [1, 2, 3, 5]:\n",
    "        #e = e or P(x,y)\n",
    "        if P(x,y):\n",
    "            e = True\n",
    "            break\n",
    "        #print(int(P(x,y)),end=' ')\n",
    "        if not P(x,y):\n",
    "            e = False\n",
    "            break\n",
    "# print(q)\n",
    "a = a and e\n",
    "print(a) "
   ]
  },
  {
   "cell_type": "code",
   "execution_count": 14,
   "metadata": {},
   "outputs": [],
   "source": [
    "# bài 2\n",
    "def P(x,y,z):\n",
    "    return x+y==z"
   ]
  },
  {
   "cell_type": "code",
   "execution_count": 15,
   "metadata": {},
   "outputs": [
    {
     "data": {
      "text/plain": [
       "{1, 2, 3, 4, 5}"
      ]
     },
     "execution_count": 15,
     "metadata": {},
     "output_type": "execute_result"
    }
   ],
   "source": [
    "set([3,3,1,2,5,5,4])"
   ]
  },
  {
   "cell_type": "code",
   "execution_count": null,
   "metadata": {},
   "outputs": [],
   "source": []
  }
 ],
 "metadata": {
  "kernelspec": {
   "display_name": "Python 3",
   "language": "python",
   "name": "python3"
  },
  "language_info": {
   "codemirror_mode": {
    "name": "ipython",
    "version": 3
   },
   "file_extension": ".py",
   "mimetype": "text/x-python",
   "name": "python",
   "nbconvert_exporter": "python",
   "pygments_lexer": "ipython3",
   "version": "3.10.7"
  }
 },
 "nbformat": 4,
 "nbformat_minor": 2
}
