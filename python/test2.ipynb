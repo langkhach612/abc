{
 "cells": [
  {
   "cell_type": "markdown",
   "metadata": {},
   "source": [
    "#### xây dựng tam giac pascal"
   ]
  },
  {
   "cell_type": "code",
   "execution_count": 3,
   "metadata": {},
   "outputs": [
    {
     "data": {
      "text/plain": [
       "[1, 1]"
      ]
     },
     "execution_count": 3,
     "metadata": {},
     "output_type": "execute_result"
    }
   ],
   "source": [
    "def pascal(n):\n",
    "    if(n==0):\n",
    "        return [1]\n",
    "    A=pascal(n-1)\n",
    "    for i in range(n-1,0,-1):\n",
    "        A[i] += A[i-1]\n",
    "    A.append(1)\n",
    "\n",
    "    return A\n",
    "\n",
    "pascal(1)\n"
   ]
  },
  {
   "cell_type": "code",
   "execution_count": 8,
   "metadata": {},
   "outputs": [
    {
     "name": "stdout",
     "output_type": "stream",
     "text": [
      "[1]\n",
      "[1, 1]\n",
      "[1, 2, 1]\n",
      "[1, 3, 3, 1]\n",
      "[1, 4, 6, 4, 1]\n"
     ]
    }
   ],
   "source": [
    "for i in range(0,5):\n",
    "    print(pascal(i))"
   ]
  },
  {
   "cell_type": "code",
   "execution_count": 2,
   "metadata": {},
   "outputs": [
    {
     "name": "stdout",
     "output_type": "stream",
     "text": [
      "UURR\n",
      "URUR\n",
      "URRU\n",
      "RUUR\n",
      "RURU\n",
      "RRUU\n"
     ]
    }
   ],
   "source": [
    "### bài toán tìm đường đi ngắn nhất(sử dụng bing)\n",
    "def print_paths(a, b, c, d, path):\n",
    "    # Nếu đã đến điểm đích\n",
    "    if a == c and b == d:\n",
    "        print(path)\n",
    "        return\n",
    "\n",
    "    # Nếu chưa đến điểm đích, thử đi lên trên hoặc sang phải\n",
    "    if a < c:\n",
    "        print_paths(a+1, b, c, d, path + 'U')\n",
    "    if b < d:\n",
    "        print_paths(a, b+1, c, d, path + 'R')\n",
    "\n",
    "# Sử dụng hàm\n",
    "print_paths(1, 1, 3, 3, '')\n"
   ]
  },
  {
   "cell_type": "code",
   "execution_count": 6,
   "metadata": {},
   "outputs": [
    {
     "name": "stdout",
     "output_type": "stream",
     "text": [
      "['UURR', 'URUR', 'URRU', 'RUUR', 'RURU', 'RRUU']\n"
     ]
    }
   ],
   "source": [
    "# cách khách cho bài trên\n",
    "\n",
    "def tim_duong_min(a, b, c, d):\n",
    "    # Điều kiện dừng đúng\n",
    "    if a == c and b == d:\n",
    "        return ['']\n",
    "\n",
    "    k = []\n",
    "\n",
    "    # Chỉ gọi đệ quy nếu không vượt quá ranh giới\n",
    "    if a < c:\n",
    "        for i in tim_duong_min(a+1, b, c, d):\n",
    "            k.append('U' + i)\n",
    "    if b < d:\n",
    "        for i in tim_duong_min(a, b+1, c, d):\n",
    "            k.append('R' + i)\n",
    "\n",
    "    return k\n",
    "\n",
    "print(tim_duong_min(1, 1, 3, 3))"
   ]
  },
  {
   "cell_type": "markdown",
   "metadata": {},
   "source": [
    "## tập thuật toán quay lui"
   ]
  },
  {
   "cell_type": "code",
   "execution_count": 12,
   "metadata": {},
   "outputs": [
    {
     "name": "stdout",
     "output_type": "stream",
     "text": [
      "42\n"
     ]
    }
   ],
   "source": [
    "# phan tich tong\n",
    "def partition(n, I=1):\n",
    "    yield (n,)\n",
    "    for i in range(I, n//2 + 1):\n",
    "        for p in partition(n-i, i):\n",
    "            yield (i,) + p\n",
    "\n",
    "print (len( list(partition(10)) ))"
   ]
  },
  {
   "cell_type": "code",
   "execution_count": 2,
   "metadata": {},
   "outputs": [
    {
     "data": {
      "text/plain": [
       "['0000',\n",
       " '0001',\n",
       " '0010',\n",
       " '0011',\n",
       " '0100',\n",
       " '0101',\n",
       " '0110',\n",
       " '0111',\n",
       " '1000',\n",
       " '1001',\n",
       " '1010',\n",
       " '1011',\n",
       " '1100',\n",
       " '1101',\n",
       " '1110',\n",
       " '1111']"
      ]
     },
     "execution_count": 2,
     "metadata": {},
     "output_type": "execute_result"
    }
   ],
   "source": [
    "# sinh xâu nhị phân n phần tử\n",
    "\n",
    "def sinh_xau(n):\n",
    "    if(n==1):\n",
    "        return [\"0\",\"1\"]\n",
    "    k=[]\n",
    "    for i in sinh_xau(n-1):\n",
    "        k.append(\"0\"+i)\n",
    "    for i in sinh_xau(n-1):\n",
    "        k.append(\"1\"+i)\n",
    "\n",
    "    return k\n",
    "\n",
    "sinh_xau(4)"
   ]
  },
  {
   "cell_type": "code",
   "execution_count": 4,
   "metadata": {},
   "outputs": [
    {
     "name": "stdout",
     "output_type": "stream",
     "text": [
      "[[0, 0, 4], [0, 1, 3], [0, 2, 2], [0, 3, 1], [0, 4, 0], [1, 0, 3], [1, 1, 2], [1, 2, 1], [1, 3, 0], [2, 0, 2], [2, 1, 1], [2, 2, 0], [3, 0, 1], [3, 1, 0], [4, 0, 0]]\n"
     ]
    }
   ],
   "source": [
    "# phan tich tong (cách 2( liệt kê nghiệm nguyên ko âm của pt x1+...+xn = r)), (có bao nhiêu cách chọn r vật từ n vật(có lặp))\n",
    "def phan_tich_tong(n,r):\n",
    "    if(n==1):\n",
    "        return [[r]]\n",
    "    \n",
    "    if(r==0):\n",
    "        return[[0 for _ in range(n)]]\n",
    "\n",
    "    k=[]\n",
    "\n",
    "    for i in phan_tich_tong(n-1,r):\n",
    "        k.append([0]+i)\n",
    "        \n",
    "    for i in phan_tich_tong(n,r-1):\n",
    "        i[0]+=1\n",
    "        k.append(i)\n",
    "\n",
    "    return k\n",
    "\n",
    "\n",
    "#print(len(phan_tich_tong(3,4))) \n",
    "print(phan_tich_tong(3,4))   # liệt kê trường hợp chỉnh hợp lặp(với tổng cho trước)\n",
    "\n",
    "# print()\n",
    "\n"
   ]
  },
  {
   "cell_type": "code",
   "execution_count": 4,
   "metadata": {},
   "outputs": [
    {
     "data": {
      "text/plain": [
       "[0, 0, 0, 0, 0, 1]"
      ]
     },
     "execution_count": 4,
     "metadata": {},
     "output_type": "execute_result"
    }
   ],
   "source": [
    "[0 for _ in range(5)]+[1]"
   ]
  },
  {
   "cell_type": "markdown",
   "metadata": {},
   "source": [
    "## bài tập tại lớp \n"
   ]
  },
  {
   "cell_type": "code",
   "execution_count": 3,
   "metadata": {},
   "outputs": [
    {
     "name": "stdout",
     "output_type": "stream",
     "text": [
      "1 1 1\n",
      "2 1 1\n",
      "2 2 1\n",
      "2 2 2\n",
      "3 1 1\n",
      "3 2 1\n",
      "3 2 2\n",
      "3 3 1\n",
      "3 3 2\n",
      "3 3 3\n",
      "4 1 1\n",
      "4 2 1\n",
      "4 2 2\n",
      "4 3 1\n",
      "4 3 2\n",
      "4 3 3\n",
      "4 4 1\n",
      "4 4 2\n",
      "4 4 3\n",
      "4 4 4\n",
      "5 1 1\n",
      "5 2 1\n",
      "5 2 2\n",
      "5 3 1\n",
      "5 3 2\n",
      "5 3 3\n",
      "5 4 1\n",
      "5 4 2\n",
      "5 4 3\n",
      "5 4 4\n",
      "5 5 1\n",
      "5 5 2\n",
      "5 5 3\n",
      "5 5 4\n",
      "5 5 5\n"
     ]
    }
   ],
   "source": [
    "for i in range(1,6):\n",
    "    for j in range(1,i+1):\n",
    "        for k in range(1,j+1):\n",
    "            print(i,j,k)\n"
   ]
  },
  {
   "cell_type": "code",
   "execution_count": 9,
   "metadata": {},
   "outputs": [
    {
     "name": "stdout",
     "output_type": "stream",
     "text": [
      "512\n",
      "[6, 1, 3]\n",
      "[1, 2, 3, 4]\n"
     ]
    }
   ],
   "source": [
    "def summands(n): # co bao nhieu tong rieng cua n\n",
    "    if  n==1:\n",
    "        return [[1]]\n",
    "    S=[]\n",
    "\n",
    "    for i in range(1,n):\n",
    "        for s in summands(n-i):\n",
    "            s = [i] + s\n",
    "            S.append(s)\n",
    "    S.append([n])\n",
    "    return S\n",
    "\n",
    "print(len(summands(10))) #512\n",
    "count = 0\n",
    "\n",
    "for i in summands(10):\n",
    "    count += 1\n",
    "    if(count == 500):\n",
    "        print(i) #613\n",
    "        count = 0\n",
    "        break\n",
    "\n",
    "for i in summands(10):\n",
    "    if( len(i) == 4 ):\n",
    "        count += 1\n",
    "        if(count == 10):\n",
    "            print(i)\n",
    "            break"
   ]
  },
  {
   "cell_type": "markdown",
   "metadata": {},
   "source": [
    "### sinh các hoán vị và tổ hợp"
   ]
  },
  {
   "cell_type": "code",
   "execution_count": 2,
   "metadata": {},
   "outputs": [
    {
     "data": {
      "text/plain": [
       "[3, 6, 4, 1, 2, 5]"
      ]
     },
     "execution_count": 2,
     "metadata": {},
     "output_type": "execute_result"
    }
   ],
   "source": [
    "def next_permutations(a):\n",
    "    n = len(a)\n",
    "    k = n-1\n",
    "    while k>=1 and a[k-1] > a[k]:\n",
    "        k -= 1\n",
    "    if (k==0):\n",
    "        return None\n",
    "    i = n-1\n",
    "    while a[i] < a[k-1] :\n",
    "        i-= 1\n",
    "    a[k-1],a[i] = a[i],a[k-1]\n",
    "    b = a[k:]\n",
    "    b.reverse()\n",
    "\n",
    "    return a[:k] + b\n",
    "\n",
    "next_permutations([3,6,2,5,4,1])"
   ]
  },
  {
   "cell_type": "markdown",
   "metadata": {},
   "source": [
    "#### tìm tổ hợp sau tổ hợp cho trc"
   ]
  },
  {
   "cell_type": "code",
   "execution_count": 8,
   "metadata": {},
   "outputs": [
    {
     "name": "stdout",
     "output_type": "stream",
     "text": [
      "[1, 3, 4, 5]\n"
     ]
    }
   ],
   "source": [
    "def next_combinations(n,a):\n",
    "    r = len(a)\n",
    "    i= r-1\n",
    "\n",
    "    while i >= 0 and a[i] == n-r + (i+1):\n",
    "        i -= 1\n",
    "\n",
    "    if i == -1:\n",
    "        return None\n",
    "    \n",
    "    a[i] += 1\n",
    "    for j in range(i + 1, r):\n",
    "        a[j] = a[j - 1] + 1\n",
    "\n",
    "    return a\n",
    "\n",
    "print(next_combinations(6, [1,2,5,6]))\n",
    "\n",
    "\n"
   ]
  },
  {
   "cell_type": "markdown",
   "metadata": {},
   "source": []
  }
 ],
 "metadata": {
  "kernelspec": {
   "display_name": "Python 3",
   "language": "python",
   "name": "python3"
  },
  "language_info": {
   "codemirror_mode": {
    "name": "ipython",
    "version": 3
   },
   "file_extension": ".py",
   "mimetype": "text/x-python",
   "name": "python",
   "nbconvert_exporter": "python",
   "pygments_lexer": "ipython3",
   "version": "3.10.7"
  }
 },
 "nbformat": 4,
 "nbformat_minor": 2
}
