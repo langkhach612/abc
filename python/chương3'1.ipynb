{
 "cells": [
  {
   "cell_type": "code",
   "execution_count": 2,
   "metadata": {},
   "outputs": [
    {
     "data": {
      "text/html": [
       "<div>\n",
       "<style scoped>\n",
       "    .dataframe tbody tr th:only-of-type {\n",
       "        vertical-align: middle;\n",
       "    }\n",
       "\n",
       "    .dataframe tbody tr th {\n",
       "        vertical-align: top;\n",
       "    }\n",
       "\n",
       "    .dataframe thead th {\n",
       "        text-align: right;\n",
       "    }\n",
       "</style>\n",
       "<table border=\"1\" class=\"dataframe\">\n",
       "  <thead>\n",
       "    <tr style=\"text-align: right;\">\n",
       "      <th></th>\n",
       "      <th>p</th>\n",
       "      <th>q</th>\n",
       "      <th>p or q</th>\n",
       "      <th>p and q</th>\n",
       "      <th>p != q</th>\n",
       "      <th>p =&gt; q</th>\n",
       "      <th>p = q</th>\n",
       "    </tr>\n",
       "  </thead>\n",
       "  <tbody>\n",
       "    <tr>\n",
       "      <th>1</th>\n",
       "      <td>0</td>\n",
       "      <td>0</td>\n",
       "      <td>0</td>\n",
       "      <td>0</td>\n",
       "      <td>0</td>\n",
       "      <td>1</td>\n",
       "      <td>1</td>\n",
       "    </tr>\n",
       "    <tr>\n",
       "      <th>2</th>\n",
       "      <td>0</td>\n",
       "      <td>1</td>\n",
       "      <td>1</td>\n",
       "      <td>0</td>\n",
       "      <td>1</td>\n",
       "      <td>1</td>\n",
       "      <td>0</td>\n",
       "    </tr>\n",
       "    <tr>\n",
       "      <th>3</th>\n",
       "      <td>1</td>\n",
       "      <td>0</td>\n",
       "      <td>1</td>\n",
       "      <td>0</td>\n",
       "      <td>1</td>\n",
       "      <td>0</td>\n",
       "      <td>0</td>\n",
       "    </tr>\n",
       "    <tr>\n",
       "      <th>4</th>\n",
       "      <td>1</td>\n",
       "      <td>1</td>\n",
       "      <td>1</td>\n",
       "      <td>1</td>\n",
       "      <td>0</td>\n",
       "      <td>1</td>\n",
       "      <td>1</td>\n",
       "    </tr>\n",
       "  </tbody>\n",
       "</table>\n",
       "</div>"
      ],
      "text/plain": [
       "   p  q  p or q  p and q  p != q  p => q  p = q\n",
       "1  0  0       0        0       0       1      1\n",
       "2  0  1       1        0       1       1      0\n",
       "3  1  0       1        0       1       0      0\n",
       "4  1  1       1        1       0       1      1"
      ]
     },
     "execution_count": 2,
     "metadata": {},
     "output_type": "execute_result"
    }
   ],
   "source": [
    "import ttg\n",
    "\n",
    "ttg.Truths(['p'],['~p']).as_pandas\n",
    "ttg.Truths(['p','q'],['p or q', 'p and q','p != q','p => q','p = q'], ascending = True).as_pandas"
   ]
  },
  {
   "cell_type": "code",
   "execution_count": 4,
   "metadata": {},
   "outputs": [
    {
     "data": {
      "text/html": [
       "<div>\n",
       "<style scoped>\n",
       "    .dataframe tbody tr th:only-of-type {\n",
       "        vertical-align: middle;\n",
       "    }\n",
       "\n",
       "    .dataframe tbody tr th {\n",
       "        vertical-align: top;\n",
       "    }\n",
       "\n",
       "    .dataframe thead th {\n",
       "        text-align: right;\n",
       "    }\n",
       "</style>\n",
       "<table border=\"1\" class=\"dataframe\">\n",
       "  <thead>\n",
       "    <tr style=\"text-align: right;\">\n",
       "      <th></th>\n",
       "      <th>p</th>\n",
       "      <th>q</th>\n",
       "      <th>r</th>\n",
       "      <th>~r</th>\n",
       "      <th>~r=&gt;p</th>\n",
       "      <th>q and (~r =&gt; p)</th>\n",
       "    </tr>\n",
       "  </thead>\n",
       "  <tbody>\n",
       "    <tr>\n",
       "      <th>1</th>\n",
       "      <td>0</td>\n",
       "      <td>0</td>\n",
       "      <td>0</td>\n",
       "      <td>1</td>\n",
       "      <td>0</td>\n",
       "      <td>0</td>\n",
       "    </tr>\n",
       "    <tr>\n",
       "      <th>2</th>\n",
       "      <td>0</td>\n",
       "      <td>0</td>\n",
       "      <td>1</td>\n",
       "      <td>0</td>\n",
       "      <td>1</td>\n",
       "      <td>0</td>\n",
       "    </tr>\n",
       "    <tr>\n",
       "      <th>3</th>\n",
       "      <td>0</td>\n",
       "      <td>1</td>\n",
       "      <td>0</td>\n",
       "      <td>1</td>\n",
       "      <td>0</td>\n",
       "      <td>0</td>\n",
       "    </tr>\n",
       "    <tr>\n",
       "      <th>4</th>\n",
       "      <td>0</td>\n",
       "      <td>1</td>\n",
       "      <td>1</td>\n",
       "      <td>0</td>\n",
       "      <td>1</td>\n",
       "      <td>1</td>\n",
       "    </tr>\n",
       "    <tr>\n",
       "      <th>5</th>\n",
       "      <td>1</td>\n",
       "      <td>0</td>\n",
       "      <td>0</td>\n",
       "      <td>1</td>\n",
       "      <td>1</td>\n",
       "      <td>0</td>\n",
       "    </tr>\n",
       "    <tr>\n",
       "      <th>6</th>\n",
       "      <td>1</td>\n",
       "      <td>0</td>\n",
       "      <td>1</td>\n",
       "      <td>0</td>\n",
       "      <td>1</td>\n",
       "      <td>0</td>\n",
       "    </tr>\n",
       "    <tr>\n",
       "      <th>7</th>\n",
       "      <td>1</td>\n",
       "      <td>1</td>\n",
       "      <td>0</td>\n",
       "      <td>1</td>\n",
       "      <td>1</td>\n",
       "      <td>1</td>\n",
       "    </tr>\n",
       "    <tr>\n",
       "      <th>8</th>\n",
       "      <td>1</td>\n",
       "      <td>1</td>\n",
       "      <td>1</td>\n",
       "      <td>0</td>\n",
       "      <td>1</td>\n",
       "      <td>1</td>\n",
       "    </tr>\n",
       "  </tbody>\n",
       "</table>\n",
       "</div>"
      ],
      "text/plain": [
       "   p  q  r  ~r  ~r=>p  q and (~r => p)\n",
       "1  0  0  0   1      0                0\n",
       "2  0  0  1   0      1                0\n",
       "3  0  1  0   1      0                0\n",
       "4  0  1  1   0      1                1\n",
       "5  1  0  0   1      1                0\n",
       "6  1  0  1   0      1                0\n",
       "7  1  1  0   1      1                1\n",
       "8  1  1  1   0      1                1"
      ]
     },
     "execution_count": 4,
     "metadata": {},
     "output_type": "execute_result"
    }
   ],
   "source": [
    "# 2.4 github\n",
    "import ttg\n",
    "\n",
    "ttg.Truths(['p','q','r'],['~r','~r=>p','q and (~r => p)'], ascending=True).as_pandas"
   ]
  },
  {
   "cell_type": "code",
   "execution_count": 4,
   "metadata": {},
   "outputs": [
    {
     "name": "stdout",
     "output_type": "stream",
     "text": [
      "1024\n"
     ]
    },
    {
     "data": {
      "text/plain": [
       "[(),\n",
       " ('1',),\n",
       " ('2',),\n",
       " ('3',),\n",
       " ('4',),\n",
       " ('1', '2'),\n",
       " ('1', '3'),\n",
       " ('1', '4'),\n",
       " ('2', '3'),\n",
       " ('2', '4'),\n",
       " ('3', '4'),\n",
       " ('1', '2', '3'),\n",
       " ('1', '2', '4'),\n",
       " ('1', '3', '4'),\n",
       " ('2', '3', '4'),\n",
       " ('1', '2', '3', '4')]"
      ]
     },
     "execution_count": 4,
     "metadata": {},
     "output_type": "execute_result"
    }
   ],
   "source": [
    "# in ra các tập con của tập gồm n phần tử:\n",
    "from itertools import chain, combinations\n",
    "\n",
    "def tao_tap_con(tap_hop):\n",
    "    return list(chain(*map(lambda x: combinations(tap_hop, x), range(0, len(tap_hop)+1))))\n",
    "\n",
    "tap_hop = [1, 2, 3, 4, 5, 6, 7, 8, 9, 0]\n",
    "print(len(tao_tap_con(tap_hop)))\n",
    "count = 0\n",
    "tao_tap_con(['1','2','3','4'])"
   ]
  },
  {
   "cell_type": "code",
   "execution_count": 5,
   "metadata": {},
   "outputs": [
    {
     "name": "stdout",
     "output_type": "stream",
     "text": [
      "[('c', 'c', 'c', 'c'), ('c', 'c', 'c', 'o'), ('c', 'c', 'c', 'o'), ('c', 'c', 'c', 'l'), ('c', 'c', 'o', 'o'), ('c', 'c', 'o', 'o'), ('c', 'c', 'o', 'l'), ('c', 'c', 'o', 'o'), ('c', 'c', 'o', 'l'), ('c', 'c', 'l', 'l'), ('c', 'o', 'o', 'o'), ('c', 'o', 'o', 'o'), ('c', 'o', 'o', 'l'), ('c', 'o', 'o', 'o'), ('c', 'o', 'o', 'l'), ('c', 'o', 'l', 'l'), ('c', 'o', 'o', 'o'), ('c', 'o', 'o', 'l'), ('c', 'o', 'l', 'l'), ('c', 'l', 'l', 'l'), ('o', 'o', 'o', 'o'), ('o', 'o', 'o', 'o'), ('o', 'o', 'o', 'l'), ('o', 'o', 'o', 'o'), ('o', 'o', 'o', 'l'), ('o', 'o', 'l', 'l'), ('o', 'o', 'o', 'o'), ('o', 'o', 'o', 'l'), ('o', 'o', 'l', 'l'), ('o', 'l', 'l', 'l'), ('o', 'o', 'o', 'o'), ('o', 'o', 'o', 'l'), ('o', 'o', 'l', 'l'), ('o', 'l', 'l', 'l'), ('l', 'l', 'l', 'l')]\n"
     ]
    }
   ],
   "source": [
    "# in ra tổ hợp chập k của list n phần tử\n",
    "import itertools\n",
    "\n",
    "def tao_to_hop_lap(tap_hop, k):\n",
    "    return list(itertools.combinations_with_replacement(tap_hop, k))\n",
    "\n",
    "tap_hop = ['c', 'o', 'o','l']\n",
    "k = 4\n",
    "print(tao_to_hop_lap(tap_hop, k))\n"
   ]
  },
  {
   "cell_type": "code",
   "execution_count": 8,
   "metadata": {},
   "outputs": [
    {
     "name": "stdout",
     "output_type": "stream",
     "text": [
      "[0, 0, 4]\n",
      "[0, 1, 3]\n",
      "[0, 2, 2]\n",
      "[0, 3, 1]\n",
      "[0, 4, 0]\n",
      "[1, 0, 3]\n",
      "[1, 1, 2]\n",
      "[1, 2, 1]\n",
      "[1, 3, 0]\n",
      "[2, 0, 2]\n",
      "[2, 1, 1]\n",
      "[2, 2, 0]\n",
      "[3, 0, 1]\n",
      "[3, 1, 0]\n",
      "[4, 0, 0]\n"
     ]
    }
   ],
   "source": [
    "def solutions(n ,r):\n",
    "    if n == 1:\n",
    "        return [[r]]\n",
    "    S = []\n",
    "    for i in range(r+1):\n",
    "        for s in solutions(n-1 , r-i):\n",
    "            s = [i] + s\n",
    "            S.append(s)\n",
    "    return S\n",
    "\n",
    "def compare(A,B):\n",
    "    k = 0\n",
    "    for i in A:\n",
    "        for j in B:\n",
    "            if (i not in B) or (j not in A):\n",
    "                k += 0\n",
    "            else:\n",
    "                k +=1\n",
    "    if (k==0):\n",
    "        return False\n",
    "    return True\n",
    "\n",
    "A = solutions(3,4)\n",
    "B = []\n",
    "for i in A:\n",
    "    for j in B:\n",
    "        if compare(i,j) == True:\n"
   ]
  },
  {
   "cell_type": "code",
   "execution_count": 8,
   "metadata": {},
   "outputs": [
    {
     "name": "stdout",
     "output_type": "stream",
     "text": [
      "2 2 1\n",
      "3 2 1\n",
      "3 3 1\n",
      "3 3 2\n"
     ]
    }
   ],
   "source": [
    "for i in range(1,4):\n",
    "    for j in range(1,i+1):\n",
    "        for k in range(1,j):\n",
    "            print(i,j,k)"
   ]
  },
  {
   "cell_type": "code",
   "execution_count": null,
   "metadata": {},
   "outputs": [],
   "source": []
  }
 ],
 "metadata": {
  "kernelspec": {
   "display_name": "Python 3",
   "language": "python",
   "name": "python3"
  },
  "language_info": {
   "codemirror_mode": {
    "name": "ipython",
    "version": 3
   },
   "file_extension": ".py",
   "mimetype": "text/x-python",
   "name": "python",
   "nbconvert_exporter": "python",
   "pygments_lexer": "ipython3",
   "version": "3.10.7"
  }
 },
 "nbformat": 4,
 "nbformat_minor": 2
}
